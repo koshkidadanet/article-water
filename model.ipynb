{
 "cells": [
  {
   "cell_type": "code",
   "execution_count": 1,
   "metadata": {
    "collapsed": true
   },
   "outputs": [],
   "source": [
    "import pandas as pd\n",
    "import matplotlib.pyplot as plt"
   ]
  },
  {
   "cell_type": "markdown",
   "source": [
    "## Читаем файл с параметрами, в качестве индекса задаем дату."
   ],
   "metadata": {
    "collapsed": false
   }
  },
  {
   "cell_type": "code",
   "execution_count": 3,
   "outputs": [
    {
     "name": "stdout",
     "output_type": "stream",
     "text": [
      "<class 'pandas.core.frame.DataFrame'>\n",
      "Index: 499400 entries, 2022-10-20 00:10:05 to 2022-10-25 18:53:24\n",
      "Data columns (total 4 columns):\n",
      " #   Column  Non-Null Count   Dtype  \n",
      "---  ------  --------------   -----  \n",
      " 0   cond    499400 non-null  float64\n",
      " 1   o2      499400 non-null  float64\n",
      " 2   orp     499400 non-null  float64\n",
      " 3   tds     499400 non-null  int64  \n",
      "dtypes: float64(3), int64(1)\n",
      "memory usage: 19.1+ MB\n"
     ]
    },
    {
     "data": {
      "text/plain": "None"
     },
     "metadata": {},
     "output_type": "display_data"
    },
    {
     "data": {
      "text/plain": "                      cond    o2    orp  tds\ndate                                        \n2022-10-20 00:10:05  359.0  62.9  474.0  369\n2022-10-20 00:10:06  353.0  62.9  473.9  369\n2022-10-20 00:10:07  345.0  62.7  473.9  370\n2022-10-20 00:10:08  342.0  62.8  474.0  370\n2022-10-20 00:10:09  339.0  62.8  474.1  368",
      "text/html": "<div>\n<style scoped>\n    .dataframe tbody tr th:only-of-type {\n        vertical-align: middle;\n    }\n\n    .dataframe tbody tr th {\n        vertical-align: top;\n    }\n\n    .dataframe thead th {\n        text-align: right;\n    }\n</style>\n<table border=\"1\" class=\"dataframe\">\n  <thead>\n    <tr style=\"text-align: right;\">\n      <th></th>\n      <th>cond</th>\n      <th>o2</th>\n      <th>orp</th>\n      <th>tds</th>\n    </tr>\n    <tr>\n      <th>date</th>\n      <th></th>\n      <th></th>\n      <th></th>\n      <th></th>\n    </tr>\n  </thead>\n  <tbody>\n    <tr>\n      <th>2022-10-20 00:10:05</th>\n      <td>359.0</td>\n      <td>62.9</td>\n      <td>474.0</td>\n      <td>369</td>\n    </tr>\n    <tr>\n      <th>2022-10-20 00:10:06</th>\n      <td>353.0</td>\n      <td>62.9</td>\n      <td>473.9</td>\n      <td>369</td>\n    </tr>\n    <tr>\n      <th>2022-10-20 00:10:07</th>\n      <td>345.0</td>\n      <td>62.7</td>\n      <td>473.9</td>\n      <td>370</td>\n    </tr>\n    <tr>\n      <th>2022-10-20 00:10:08</th>\n      <td>342.0</td>\n      <td>62.8</td>\n      <td>474.0</td>\n      <td>370</td>\n    </tr>\n    <tr>\n      <th>2022-10-20 00:10:09</th>\n      <td>339.0</td>\n      <td>62.8</td>\n      <td>474.1</td>\n      <td>368</td>\n    </tr>\n  </tbody>\n</table>\n</div>"
     },
     "metadata": {},
     "output_type": "display_data"
    }
   ],
   "source": [
    "df = pd.read_csv('water_df.csv',index_col='date')\n",
    "display(df.info())\n",
    "display(df.head())"
   ],
   "metadata": {
    "collapsed": false
   }
  }
 ],
 "metadata": {
  "kernelspec": {
   "display_name": "Python 3",
   "language": "python",
   "name": "python3"
  },
  "language_info": {
   "codemirror_mode": {
    "name": "ipython",
    "version": 2
   },
   "file_extension": ".py",
   "mimetype": "text/x-python",
   "name": "python",
   "nbconvert_exporter": "python",
   "pygments_lexer": "ipython2",
   "version": "2.7.6"
  }
 },
 "nbformat": 4,
 "nbformat_minor": 0
}
