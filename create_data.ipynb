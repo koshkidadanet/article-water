{
 "cells": [
  {
   "cell_type": "code",
   "execution_count": 8,
   "metadata": {
    "collapsed": true
   },
   "outputs": [],
   "source": [
    "import pandas as pd\n",
    "import datetime as dt\n",
    "import numpy as np"
   ]
  },
  {
   "cell_type": "markdown",
   "source": [
    "## Читаем целевую колонку из каждого файла excel"
   ],
   "metadata": {
    "collapsed": false
   }
  },
  {
   "cell_type": "code",
   "execution_count": 2,
   "outputs": [],
   "source": [
    "df_cond = pd.read_excel('data/COND_dv (25.05-01.06).xls.xlsx', usecols='C', header=None)\n",
    "df_do = pd.read_excel('data/DO_dv (04.05-11.05).xls.xlsx', usecols='C', header=None)\n",
    "df_o2 = pd.read_excel('data/O2_dv (11.05-18.05).xls.xlsx', usecols='C', header=None)\n",
    "df_orp = pd.read_excel('data/ORP_dv (15.06-22.06).xls.xlsx', usecols='C', header=None)\n",
    "df_ph = pd.read_excel('data/pH_dv (18.05-25.05).xls.xlsx', usecols='C', header=None)\n",
    "df_tds = pd.read_excel('data/TDS_dv (01.05-08.06).xls.xlsx', usecols='C', header=None)"
   ],
   "metadata": {
    "collapsed": false
   }
  },
  {
   "cell_type": "markdown",
   "source": [
    "## Находим файл с меньшим числом измерений"
   ],
   "metadata": {
    "collapsed": false
   }
  },
  {
   "cell_type": "code",
   "execution_count": 21,
   "outputs": [
    {
     "name": "stdout",
     "output_type": "stream",
     "text": [
      "595835\n",
      "599824\n",
      "593195\n",
      "596894\n",
      "595834\n",
      "597074\n"
     ]
    }
   ],
   "source": [
    "print(len(df_cond))\n",
    "print(len(df_do))\n",
    "print(len(df_o2))\n",
    "print(len(df_orp))\n",
    "print(len(df_ph))\n",
    "print(len(df_tds))\n",
    "\n",
    "true_len = len(df_o2)"
   ],
   "metadata": {
    "collapsed": false
   }
  },
  {
   "cell_type": "markdown",
   "source": [
    "## Собираем все колонки в единый файл с 593195 строками"
   ],
   "metadata": {
    "collapsed": false
   }
  },
  {
   "cell_type": "code",
   "execution_count": 22,
   "outputs": [
    {
     "data": {
      "text/plain": "         cond    do     o2    orp    ph  tds\n0       308.0  8.27  119.6  447.5  8.96  376\n1       302.0  8.23  116.8  447.5  7.81  376\n2       300.0  8.18  114.7  447.5  7.58  376\n3       306.0  8.13  112.8  447.5  7.48  376\n4       297.0  8.09  111.0  447.5  7.43  374\n...       ...   ...    ...    ...   ...  ...\n593190  183.6  4.48   68.2  303.0  6.52  343\n593191  189.4  4.48   68.4  303.1  6.52  342\n593192  194.0  4.48   68.2  303.6  6.52  343\n593193  182.5  4.48   68.2  302.9  6.52  341\n593194  191.2  4.48   68.3  303.0  6.52  341\n\n[593195 rows x 6 columns]",
      "text/html": "<div>\n<style scoped>\n    .dataframe tbody tr th:only-of-type {\n        vertical-align: middle;\n    }\n\n    .dataframe tbody tr th {\n        vertical-align: top;\n    }\n\n    .dataframe thead th {\n        text-align: right;\n    }\n</style>\n<table border=\"1\" class=\"dataframe\">\n  <thead>\n    <tr style=\"text-align: right;\">\n      <th></th>\n      <th>cond</th>\n      <th>do</th>\n      <th>o2</th>\n      <th>orp</th>\n      <th>ph</th>\n      <th>tds</th>\n    </tr>\n  </thead>\n  <tbody>\n    <tr>\n      <th>0</th>\n      <td>308.0</td>\n      <td>8.27</td>\n      <td>119.6</td>\n      <td>447.5</td>\n      <td>8.96</td>\n      <td>376</td>\n    </tr>\n    <tr>\n      <th>1</th>\n      <td>302.0</td>\n      <td>8.23</td>\n      <td>116.8</td>\n      <td>447.5</td>\n      <td>7.81</td>\n      <td>376</td>\n    </tr>\n    <tr>\n      <th>2</th>\n      <td>300.0</td>\n      <td>8.18</td>\n      <td>114.7</td>\n      <td>447.5</td>\n      <td>7.58</td>\n      <td>376</td>\n    </tr>\n    <tr>\n      <th>3</th>\n      <td>306.0</td>\n      <td>8.13</td>\n      <td>112.8</td>\n      <td>447.5</td>\n      <td>7.48</td>\n      <td>376</td>\n    </tr>\n    <tr>\n      <th>4</th>\n      <td>297.0</td>\n      <td>8.09</td>\n      <td>111.0</td>\n      <td>447.5</td>\n      <td>7.43</td>\n      <td>374</td>\n    </tr>\n    <tr>\n      <th>...</th>\n      <td>...</td>\n      <td>...</td>\n      <td>...</td>\n      <td>...</td>\n      <td>...</td>\n      <td>...</td>\n    </tr>\n    <tr>\n      <th>593190</th>\n      <td>183.6</td>\n      <td>4.48</td>\n      <td>68.2</td>\n      <td>303.0</td>\n      <td>6.52</td>\n      <td>343</td>\n    </tr>\n    <tr>\n      <th>593191</th>\n      <td>189.4</td>\n      <td>4.48</td>\n      <td>68.4</td>\n      <td>303.1</td>\n      <td>6.52</td>\n      <td>342</td>\n    </tr>\n    <tr>\n      <th>593192</th>\n      <td>194.0</td>\n      <td>4.48</td>\n      <td>68.2</td>\n      <td>303.6</td>\n      <td>6.52</td>\n      <td>343</td>\n    </tr>\n    <tr>\n      <th>593193</th>\n      <td>182.5</td>\n      <td>4.48</td>\n      <td>68.2</td>\n      <td>302.9</td>\n      <td>6.52</td>\n      <td>341</td>\n    </tr>\n    <tr>\n      <th>593194</th>\n      <td>191.2</td>\n      <td>4.48</td>\n      <td>68.3</td>\n      <td>303.0</td>\n      <td>6.52</td>\n      <td>341</td>\n    </tr>\n  </tbody>\n</table>\n<p>593195 rows × 6 columns</p>\n</div>"
     },
     "execution_count": 22,
     "metadata": {},
     "output_type": "execute_result"
    }
   ],
   "source": [
    "df = pd.DataFrame()\n",
    "\n",
    "df['cond'] = df_cond[2][0:true_len]\n",
    "df['do'] = df_do[2][0:true_len]\n",
    "df['o2'] = df_o2[2][0:true_len]\n",
    "df['orp'] = df_orp[2][0:true_len]\n",
    "df['ph'] = df_ph[2][0:true_len]\n",
    "df['tds'] = df_tds[2][0:true_len]\n",
    "\n",
    "df"
   ],
   "metadata": {
    "collapsed": false
   }
  },
  {
   "cell_type": "markdown",
   "source": [
    "## Создаем имитированную колонку с временным индексом"
   ],
   "metadata": {
    "collapsed": false
   }
  },
  {
   "cell_type": "code",
   "execution_count": 46,
   "outputs": [
    {
     "data": {
      "text/plain": "         cond    do     o2    orp    ph  tds                date\n0       308.0  8.27  119.6  447.5  8.96  376 2022-10-20 00:00:05\n1       302.0  8.23  116.8  447.5  7.81  376 2022-10-20 00:00:06\n2       300.0  8.18  114.7  447.5  7.58  376 2022-10-20 00:00:07\n3       306.0  8.13  112.8  447.5  7.48  376 2022-10-20 00:00:08\n4       297.0  8.09  111.0  447.5  7.43  374 2022-10-20 00:00:09\n...       ...   ...    ...    ...   ...  ...                 ...\n593190  183.6  4.48   68.2  303.0  6.52  343 2022-10-26 20:46:35\n593191  189.4  4.48   68.4  303.1  6.52  342 2022-10-26 20:46:36\n593192  194.0  4.48   68.2  303.6  6.52  343 2022-10-26 20:46:37\n593193  182.5  4.48   68.2  302.9  6.52  341 2022-10-26 20:46:38\n593194  191.2  4.48   68.3  303.0  6.52  341 2022-10-26 20:46:39\n\n[593195 rows x 7 columns]",
      "text/html": "<div>\n<style scoped>\n    .dataframe tbody tr th:only-of-type {\n        vertical-align: middle;\n    }\n\n    .dataframe tbody tr th {\n        vertical-align: top;\n    }\n\n    .dataframe thead th {\n        text-align: right;\n    }\n</style>\n<table border=\"1\" class=\"dataframe\">\n  <thead>\n    <tr style=\"text-align: right;\">\n      <th></th>\n      <th>cond</th>\n      <th>do</th>\n      <th>o2</th>\n      <th>orp</th>\n      <th>ph</th>\n      <th>tds</th>\n      <th>date</th>\n    </tr>\n  </thead>\n  <tbody>\n    <tr>\n      <th>0</th>\n      <td>308.0</td>\n      <td>8.27</td>\n      <td>119.6</td>\n      <td>447.5</td>\n      <td>8.96</td>\n      <td>376</td>\n      <td>2022-10-20 00:00:05</td>\n    </tr>\n    <tr>\n      <th>1</th>\n      <td>302.0</td>\n      <td>8.23</td>\n      <td>116.8</td>\n      <td>447.5</td>\n      <td>7.81</td>\n      <td>376</td>\n      <td>2022-10-20 00:00:06</td>\n    </tr>\n    <tr>\n      <th>2</th>\n      <td>300.0</td>\n      <td>8.18</td>\n      <td>114.7</td>\n      <td>447.5</td>\n      <td>7.58</td>\n      <td>376</td>\n      <td>2022-10-20 00:00:07</td>\n    </tr>\n    <tr>\n      <th>3</th>\n      <td>306.0</td>\n      <td>8.13</td>\n      <td>112.8</td>\n      <td>447.5</td>\n      <td>7.48</td>\n      <td>376</td>\n      <td>2022-10-20 00:00:08</td>\n    </tr>\n    <tr>\n      <th>4</th>\n      <td>297.0</td>\n      <td>8.09</td>\n      <td>111.0</td>\n      <td>447.5</td>\n      <td>7.43</td>\n      <td>374</td>\n      <td>2022-10-20 00:00:09</td>\n    </tr>\n    <tr>\n      <th>...</th>\n      <td>...</td>\n      <td>...</td>\n      <td>...</td>\n      <td>...</td>\n      <td>...</td>\n      <td>...</td>\n      <td>...</td>\n    </tr>\n    <tr>\n      <th>593190</th>\n      <td>183.6</td>\n      <td>4.48</td>\n      <td>68.2</td>\n      <td>303.0</td>\n      <td>6.52</td>\n      <td>343</td>\n      <td>2022-10-26 20:46:35</td>\n    </tr>\n    <tr>\n      <th>593191</th>\n      <td>189.4</td>\n      <td>4.48</td>\n      <td>68.4</td>\n      <td>303.1</td>\n      <td>6.52</td>\n      <td>342</td>\n      <td>2022-10-26 20:46:36</td>\n    </tr>\n    <tr>\n      <th>593192</th>\n      <td>194.0</td>\n      <td>4.48</td>\n      <td>68.2</td>\n      <td>303.6</td>\n      <td>6.52</td>\n      <td>343</td>\n      <td>2022-10-26 20:46:37</td>\n    </tr>\n    <tr>\n      <th>593193</th>\n      <td>182.5</td>\n      <td>4.48</td>\n      <td>68.2</td>\n      <td>302.9</td>\n      <td>6.52</td>\n      <td>341</td>\n      <td>2022-10-26 20:46:38</td>\n    </tr>\n    <tr>\n      <th>593194</th>\n      <td>191.2</td>\n      <td>4.48</td>\n      <td>68.3</td>\n      <td>303.0</td>\n      <td>6.52</td>\n      <td>341</td>\n      <td>2022-10-26 20:46:39</td>\n    </tr>\n  </tbody>\n</table>\n<p>593195 rows × 7 columns</p>\n</div>"
     },
     "execution_count": 46,
     "metadata": {},
     "output_type": "execute_result"
    }
   ],
   "source": [
    "dt_fmt = \"%m/%d/%Y:%H:%M:%S\"\n",
    "\n",
    "\n",
    "def get_date_range(dt_from, dt_to, freq=\"1D\", dt_fmt=dt_fmt, **kwargs):\n",
    "    dt_from = pd.to_datetime(dt_from, format=dt_fmt)\n",
    "    dt_to = pd.to_datetime(dt_to, format=dt_fmt)\n",
    "    return pd.date_range(dt_from, dt_to, freq=freq, **kwargs)\n",
    "\n",
    "\n",
    "time = get_date_range(\"10/20/2022:00:00:05\", \"10/26/2022:20:46:39\", freq=\"1S\")\n",
    "len(time)\n",
    "\n",
    "df['date'] = time\n",
    "df['date'] = pd.to_datetime(df['date'])\n",
    "df"
   ],
   "metadata": {
    "collapsed": false
   }
  },
  {
   "cell_type": "code",
   "execution_count": 47,
   "outputs": [],
   "source": [
    "df.to_csv('water_df.csv')"
   ],
   "metadata": {
    "collapsed": false
   }
  }
 ],
 "metadata": {
  "kernelspec": {
   "display_name": "Python 3",
   "language": "python",
   "name": "python3"
  },
  "language_info": {
   "codemirror_mode": {
    "name": "ipython",
    "version": 2
   },
   "file_extension": ".py",
   "mimetype": "text/x-python",
   "name": "python",
   "nbconvert_exporter": "python",
   "pygments_lexer": "ipython2",
   "version": "2.7.6"
  }
 },
 "nbformat": 4,
 "nbformat_minor": 0
}
